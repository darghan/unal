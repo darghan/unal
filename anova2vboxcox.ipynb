{
 "cells": [
  {
   "cell_type": "code",
   "execution_count": 35,
   "id": "04dacc2e",
   "metadata": {},
   "outputs": [],
   "source": [
    "import pandas as pd"
   ]
  },
  {
   "cell_type": "markdown",
   "id": "e2f24cb2",
   "metadata": {},
   "source": [
    "$$\\color{blue}{\\text{datos de vinos}}$$"
   ]
  },
  {
   "cell_type": "code",
   "execution_count": 42,
   "id": "8e265088",
   "metadata": {},
   "outputs": [
    {
     "data": {
      "text/html": [
       "<div>\n",
       "<style scoped>\n",
       "    .dataframe tbody tr th:only-of-type {\n",
       "        vertical-align: middle;\n",
       "    }\n",
       "\n",
       "    .dataframe tbody tr th {\n",
       "        vertical-align: top;\n",
       "    }\n",
       "\n",
       "    .dataframe thead th {\n",
       "        text-align: right;\n",
       "    }\n",
       "</style>\n",
       "<table border=\"1\" class=\"dataframe\">\n",
       "  <thead>\n",
       "    <tr style=\"text-align: right;\">\n",
       "      <th></th>\n",
       "      <th>Label</th>\n",
       "      <th>Soil</th>\n",
       "      <th>Plante</th>\n",
       "      <th>Acidity</th>\n",
       "      <th>Harmony</th>\n",
       "      <th>Intensity</th>\n",
       "      <th>Overall_quality</th>\n",
       "      <th>Typical</th>\n",
       "    </tr>\n",
       "  </thead>\n",
       "  <tbody>\n",
       "    <tr>\n",
       "      <th>0</th>\n",
       "      <td>Saumur</td>\n",
       "      <td>Env1</td>\n",
       "      <td>2.000</td>\n",
       "      <td>2.107</td>\n",
       "      <td>3.143</td>\n",
       "      <td>2.857</td>\n",
       "      <td>3.393</td>\n",
       "      <td>3.250</td>\n",
       "    </tr>\n",
       "    <tr>\n",
       "      <th>1</th>\n",
       "      <td>Saumur</td>\n",
       "      <td>Env1</td>\n",
       "      <td>2.000</td>\n",
       "      <td>2.107</td>\n",
       "      <td>2.964</td>\n",
       "      <td>2.893</td>\n",
       "      <td>3.214</td>\n",
       "      <td>3.036</td>\n",
       "    </tr>\n",
       "    <tr>\n",
       "      <th>2</th>\n",
       "      <td>Bourgueuil</td>\n",
       "      <td>Env1</td>\n",
       "      <td>1.750</td>\n",
       "      <td>2.179</td>\n",
       "      <td>3.143</td>\n",
       "      <td>3.074</td>\n",
       "      <td>3.536</td>\n",
       "      <td>3.179</td>\n",
       "    </tr>\n",
       "    <tr>\n",
       "      <th>3</th>\n",
       "      <td>Chinon</td>\n",
       "      <td>Env2</td>\n",
       "      <td>2.304</td>\n",
       "      <td>3.179</td>\n",
       "      <td>2.038</td>\n",
       "      <td>2.462</td>\n",
       "      <td>2.464</td>\n",
       "      <td>2.250</td>\n",
       "    </tr>\n",
       "    <tr>\n",
       "      <th>4</th>\n",
       "      <td>Saumur</td>\n",
       "      <td>Reference</td>\n",
       "      <td>1.762</td>\n",
       "      <td>2.571</td>\n",
       "      <td>3.643</td>\n",
       "      <td>3.643</td>\n",
       "      <td>3.741</td>\n",
       "      <td>3.444</td>\n",
       "    </tr>\n",
       "  </tbody>\n",
       "</table>\n",
       "</div>"
      ],
      "text/plain": [
       "        Label       Soil  Plante  Acidity  Harmony  Intensity  \\\n",
       "0      Saumur       Env1   2.000    2.107    3.143      2.857   \n",
       "1      Saumur       Env1   2.000    2.107    2.964      2.893   \n",
       "2  Bourgueuil       Env1   1.750    2.179    3.143      3.074   \n",
       "3      Chinon       Env2   2.304    3.179    2.038      2.462   \n",
       "4      Saumur  Reference   1.762    2.571    3.643      3.643   \n",
       "\n",
       "   Overall_quality  Typical  \n",
       "0            3.393    3.250  \n",
       "1            3.214    3.036  \n",
       "2            3.536    3.179  \n",
       "3            2.464    2.250  \n",
       "4            3.741    3.444  "
      ]
     },
     "execution_count": 42,
     "metadata": {},
     "output_type": "execute_result"
    }
   ],
   "source": [
    "dff=pd.read_excel('https://github.com/darghan/unal/blob/main/vinos.xlsx?raw=true')\n",
    "dff.head()"
   ]
  },
  {
   "cell_type": "markdown",
   "id": "3c3d7ec1",
   "metadata": {},
   "source": [
    "<p style=\"font-family: Arial; font-size:1.6em;color:blue;\"> Diagrama de Cajas </p>"
   ]
  },
  {
   "cell_type": "markdown",
   "id": "c2232ff8",
   "metadata": {},
   "source": [
    "import matplotlib.pyplot as plt\n",
    "import seaborn as sns"
   ]
  },
  {
   "cell_type": "code",
   "execution_count": 177,
   "id": "922b79b1",
   "metadata": {},
   "outputs": [
    {
     "data": {
      "image/png": "[encoded data removed]",
      "text/plain": [
       "<Figure size 432x288 with 1 Axes>"
      ]
     },
     "metadata": {
      "needs_background": "light"
     },
     "output_type": "display_data"
    }
   ],
   "source": [
    "ax = sns.boxplot(x='Soil', y='Acidity', data=dff, color='#12c2a2')\n",
    "ax = sns.swarmplot(x=\"Soil\", y=\"Acidity\", data=dff, color='#7d0014')\n",
    "plt.show()"
   ]
  },
  {
   "cell_type": "markdown",
   "id": "256aa687",
   "metadata": {},
   "source": [
    "$$\\color{blue}{\\textbf{Seleccionando algunas columnas de datos}}$$"
   ]
  },
  {
   "cell_type": "code",
   "execution_count": 60,
   "id": "c0d09b15",
   "metadata": {},
   "outputs": [],
   "source": [
    "dff3=dff.iloc[:,[0,1,5,6]]"
   ]
  },
  {
   "cell_type": "code",
   "execution_count": 61,
   "id": "69f1399d",
   "metadata": {},
   "outputs": [
    {
     "data": {
      "text/html": [
       "<div>\n",
       "<style scoped>\n",
       "    .dataframe tbody tr th:only-of-type {\n",
       "        vertical-align: middle;\n",
       "    }\n",
       "\n",
       "    .dataframe tbody tr th {\n",
       "        vertical-align: top;\n",
       "    }\n",
       "\n",
       "    .dataframe thead th {\n",
       "        text-align: right;\n",
       "    }\n",
       "</style>\n",
       "<table border=\"1\" class=\"dataframe\">\n",
       "  <thead>\n",
       "    <tr style=\"text-align: right;\">\n",
       "      <th></th>\n",
       "      <th>Label</th>\n",
       "      <th>Soil</th>\n",
       "      <th>Intensity</th>\n",
       "      <th>Overall_quality</th>\n",
       "    </tr>\n",
       "  </thead>\n",
       "  <tbody>\n",
       "    <tr>\n",
       "      <th>0</th>\n",
       "      <td>Saumur</td>\n",
       "      <td>Env1</td>\n",
       "      <td>2.857</td>\n",
       "      <td>3.393</td>\n",
       "    </tr>\n",
       "    <tr>\n",
       "      <th>1</th>\n",
       "      <td>Saumur</td>\n",
       "      <td>Env1</td>\n",
       "      <td>2.893</td>\n",
       "      <td>3.214</td>\n",
       "    </tr>\n",
       "    <tr>\n",
       "      <th>2</th>\n",
       "      <td>Bourgueuil</td>\n",
       "      <td>Env1</td>\n",
       "      <td>3.074</td>\n",
       "      <td>3.536</td>\n",
       "    </tr>\n",
       "    <tr>\n",
       "      <th>3</th>\n",
       "      <td>Chinon</td>\n",
       "      <td>Env2</td>\n",
       "      <td>2.462</td>\n",
       "      <td>2.464</td>\n",
       "    </tr>\n",
       "    <tr>\n",
       "      <th>4</th>\n",
       "      <td>Saumur</td>\n",
       "      <td>Reference</td>\n",
       "      <td>3.643</td>\n",
       "      <td>3.741</td>\n",
       "    </tr>\n",
       "  </tbody>\n",
       "</table>\n",
       "</div>"
      ],
      "text/plain": [
       "        Label       Soil  Intensity  Overall_quality\n",
       "0      Saumur       Env1      2.857            3.393\n",
       "1      Saumur       Env1      2.893            3.214\n",
       "2  Bourgueuil       Env1      3.074            3.536\n",
       "3      Chinon       Env2      2.462            2.464\n",
       "4      Saumur  Reference      3.643            3.741"
      ]
     },
     "execution_count": 61,
     "metadata": {},
     "output_type": "execute_result"
    }
   ],
   "source": [
    "dff3.head()"
   ]
  },
  {
   "cell_type": "markdown",
   "id": "e307db10",
   "metadata": {},
   "source": [
    "$$\\color{blue}{\\textbf{Cambiando nombres de columnas}}$$"
   ]
  },
  {
   "cell_type": "code",
   "execution_count": 64,
   "id": "28f02eb3",
   "metadata": {},
   "outputs": [],
   "source": [
    "dff3.columns = ['tipo', 'suelo','intensidad','calidad']"
   ]
  },
  {
   "cell_type": "code",
   "execution_count": 65,
   "id": "6180cce0",
   "metadata": {},
   "outputs": [
    {
     "data": {
      "text/html": [
       "<div>\n",
       "<style scoped>\n",
       "    .dataframe tbody tr th:only-of-type {\n",
       "        vertical-align: middle;\n",
       "    }\n",
       "\n",
       "    .dataframe tbody tr th {\n",
       "        vertical-align: top;\n",
       "    }\n",
       "\n",
       "    .dataframe thead th {\n",
       "        text-align: right;\n",
       "    }\n",
       "</style>\n",
       "<table border=\"1\" class=\"dataframe\">\n",
       "  <thead>\n",
       "    <tr style=\"text-align: right;\">\n",
       "      <th></th>\n",
       "      <th>tipo</th>\n",
       "      <th>suelo</th>\n",
       "      <th>intensidad</th>\n",
       "      <th>calidad</th>\n",
       "    </tr>\n",
       "  </thead>\n",
       "  <tbody>\n",
       "    <tr>\n",
       "      <th>0</th>\n",
       "      <td>Saumur</td>\n",
       "      <td>Env1</td>\n",
       "      <td>2.857</td>\n",
       "      <td>3.393</td>\n",
       "    </tr>\n",
       "    <tr>\n",
       "      <th>1</th>\n",
       "      <td>Saumur</td>\n",
       "      <td>Env1</td>\n",
       "      <td>2.893</td>\n",
       "      <td>3.214</td>\n",
       "    </tr>\n",
       "    <tr>\n",
       "      <th>2</th>\n",
       "      <td>Bourgueuil</td>\n",
       "      <td>Env1</td>\n",
       "      <td>3.074</td>\n",
       "      <td>3.536</td>\n",
       "    </tr>\n",
       "    <tr>\n",
       "      <th>3</th>\n",
       "      <td>Chinon</td>\n",
       "      <td>Env2</td>\n",
       "      <td>2.462</td>\n",
       "      <td>2.464</td>\n",
       "    </tr>\n",
       "    <tr>\n",
       "      <th>4</th>\n",
       "      <td>Saumur</td>\n",
       "      <td>Reference</td>\n",
       "      <td>3.643</td>\n",
       "      <td>3.741</td>\n",
       "    </tr>\n",
       "  </tbody>\n",
       "</table>\n",
       "</div>"
      ],
      "text/plain": [
       "         tipo      suelo  intensidad  calidad\n",
       "0      Saumur       Env1       2.857    3.393\n",
       "1      Saumur       Env1       2.893    3.214\n",
       "2  Bourgueuil       Env1       3.074    3.536\n",
       "3      Chinon       Env2       2.462    2.464\n",
       "4      Saumur  Reference       3.643    3.741"
      ]
     },
     "execution_count": 65,
     "metadata": {},
     "output_type": "execute_result"
    }
   ],
   "source": [
    "dff3.head()"
   ]
  },
  {
   "cell_type": "markdown",
   "id": "7d1a06e7",
   "metadata": {},
   "source": [
    "$$\\color{blue}{\\textbf{Diagrama de cajas en el nuevo dataframe}}$$"
   ]
  },
  {
   "cell_type": "code",
   "execution_count": 66,
   "id": "823583ee",
   "metadata": {},
   "outputs": [
    {
     "data": {
      "image/png": "[encoded data removed]",
      "text/plain": [
       "<Figure size 432x288 with 1 Axes>"
      ]
     },
     "metadata": {
      "needs_background": "light"
     },
     "output_type": "display_data"
    }
   ],
   "source": [
    "import matplotlib.pyplot as plt\n",
    "import seaborn as sns\n",
    "ax = sns.boxplot(x='tipo', y='intensidad', data=dff3, color='#99c2a2')\n",
    "ax = sns.swarmplot(x=\"tipo\", y=\"intensidad\", data=dff3, color='#7d0013')\n",
    "plt.show()"
   ]
  },
  {
   "cell_type": "markdown",
   "id": "d0bf4ce6",
   "metadata": {},
   "source": [
    "$$\\color{blue}{\\textbf{Anova de una vía}}$$\n",
    "$$\\text{respuesta:intensidad; factor: tipo de vino}$$\n"
   ]
  },
  {
   "cell_type": "markdown",
   "id": "3d7c3485",
   "metadata": {},
   "source": [
    "$$\\color{blue}{Ho: \\mu_{t1}=\\mu_{t2}=\\mu_{t3}}$$"
   ]
  },
  {
   "cell_type": "code",
   "execution_count": 67,
   "id": "a3e0c328",
   "metadata": {},
   "outputs": [
    {
     "data": {
      "text/html": [
       "<div>\n",
       "<style scoped>\n",
       "    .dataframe tbody tr th:only-of-type {\n",
       "        vertical-align: middle;\n",
       "    }\n",
       "\n",
       "    .dataframe tbody tr th {\n",
       "        vertical-align: top;\n",
       "    }\n",
       "\n",
       "    .dataframe thead th {\n",
       "        text-align: right;\n",
       "    }\n",
       "</style>\n",
       "<table border=\"1\" class=\"dataframe\">\n",
       "  <thead>\n",
       "    <tr style=\"text-align: right;\">\n",
       "      <th></th>\n",
       "      <th>sum_sq</th>\n",
       "      <th>df</th>\n",
       "      <th>F</th>\n",
       "      <th>PR(&gt;F)</th>\n",
       "    </tr>\n",
       "  </thead>\n",
       "  <tbody>\n",
       "    <tr>\n",
       "      <th>C(tipo)</th>\n",
       "      <td>0.180406</td>\n",
       "      <td>2.0</td>\n",
       "      <td>0.625518</td>\n",
       "      <td>0.546218</td>\n",
       "    </tr>\n",
       "    <tr>\n",
       "      <th>Residual</th>\n",
       "      <td>2.595689</td>\n",
       "      <td>18.0</td>\n",
       "      <td>NaN</td>\n",
       "      <td>NaN</td>\n",
       "    </tr>\n",
       "  </tbody>\n",
       "</table>\n",
       "</div>"
      ],
      "text/plain": [
       "            sum_sq    df         F    PR(>F)\n",
       "C(tipo)   0.180406   2.0  0.625518  0.546218\n",
       "Residual  2.595689  18.0       NaN       NaN"
      ]
     },
     "execution_count": 67,
     "metadata": {},
     "output_type": "execute_result"
    }
   ],
   "source": [
    "import statsmodels.api as sm\n",
    "from statsmodels.formula.api import ols\n",
    "\n",
    "model1v = ols('intensidad ~ C(tipo)', data=dff3).fit()\n",
    "anova_tab = sm.stats.anova_lm(model1v, typ=2)\n",
    "anova_tab"
   ]
  },
  {
   "cell_type": "markdown",
   "id": "6bdfcb39",
   "metadata": {},
   "source": [
    "$$\\color{blue}{\\textbf{Anova de una vía}}$$\n",
    "$$\\text{respuesta:calidad; factor: tipo de vino}$$"
   ]
  },
  {
   "cell_type": "code",
   "execution_count": 68,
   "id": "75ce3a44",
   "metadata": {},
   "outputs": [
    {
     "data": {
      "text/html": [
       "<div>\n",
       "<style scoped>\n",
       "    .dataframe tbody tr th:only-of-type {\n",
       "        vertical-align: middle;\n",
       "    }\n",
       "\n",
       "    .dataframe tbody tr th {\n",
       "        vertical-align: top;\n",
       "    }\n",
       "\n",
       "    .dataframe thead th {\n",
       "        text-align: right;\n",
       "    }\n",
       "</style>\n",
       "<table border=\"1\" class=\"dataframe\">\n",
       "  <thead>\n",
       "    <tr style=\"text-align: right;\">\n",
       "      <th></th>\n",
       "      <th>sum_sq</th>\n",
       "      <th>df</th>\n",
       "      <th>F</th>\n",
       "      <th>PR(&gt;F)</th>\n",
       "    </tr>\n",
       "  </thead>\n",
       "  <tbody>\n",
       "    <tr>\n",
       "      <th>C(tipo)</th>\n",
       "      <td>0.183721</td>\n",
       "      <td>2.0</td>\n",
       "      <td>0.465904</td>\n",
       "      <td>0.634927</td>\n",
       "    </tr>\n",
       "    <tr>\n",
       "      <th>Residual</th>\n",
       "      <td>3.548986</td>\n",
       "      <td>18.0</td>\n",
       "      <td>NaN</td>\n",
       "      <td>NaN</td>\n",
       "    </tr>\n",
       "  </tbody>\n",
       "</table>\n",
       "</div>"
      ],
      "text/plain": [
       "            sum_sq    df         F    PR(>F)\n",
       "C(tipo)   0.183721   2.0  0.465904  0.634927\n",
       "Residual  3.548986  18.0       NaN       NaN"
      ]
     },
     "execution_count": 68,
     "metadata": {},
     "output_type": "execute_result"
    }
   ],
   "source": [
    "model1v2 = ols('calidad ~ C(tipo)', data=dff3).fit()\n",
    "anova_tab2 = sm.stats.anova_lm(model1v2, typ=2)\n",
    "anova_tab2"
   ]
  },
  {
   "cell_type": "markdown",
   "id": "8d8d0f0b",
   "metadata": {},
   "source": [
    "$$\\color{blue}{\\textbf{Anova de una vía: Forma alterna para extraer residuales}}$$\n",
    "$$\\text{respuesta:calidad; factor: tipo de suelo}$$"
   ]
  },
  {
   "cell_type": "code",
   "execution_count": 69,
   "id": "499ac0fb",
   "metadata": {},
   "outputs": [
    {
     "data": {
      "text/html": [
       "<div>\n",
       "<style scoped>\n",
       "    .dataframe tbody tr th:only-of-type {\n",
       "        vertical-align: middle;\n",
       "    }\n",
       "\n",
       "    .dataframe tbody tr th {\n",
       "        vertical-align: top;\n",
       "    }\n",
       "\n",
       "    .dataframe thead th {\n",
       "        text-align: right;\n",
       "    }\n",
       "</style>\n",
       "<table border=\"1\" class=\"dataframe\">\n",
       "  <thead>\n",
       "    <tr style=\"text-align: right;\">\n",
       "      <th></th>\n",
       "      <th>df</th>\n",
       "      <th>sum_sq</th>\n",
       "      <th>mean_sq</th>\n",
       "      <th>F</th>\n",
       "      <th>PR(&gt;F)</th>\n",
       "    </tr>\n",
       "  </thead>\n",
       "  <tbody>\n",
       "    <tr>\n",
       "      <th>C(suelo)</th>\n",
       "      <td>3.0</td>\n",
       "      <td>1.805837</td>\n",
       "      <td>0.601946</td>\n",
       "      <td>5.310726</td>\n",
       "      <td>0.009113</td>\n",
       "    </tr>\n",
       "    <tr>\n",
       "      <th>Residual</th>\n",
       "      <td>17.0</td>\n",
       "      <td>1.926870</td>\n",
       "      <td>0.113345</td>\n",
       "      <td>NaN</td>\n",
       "      <td>NaN</td>\n",
       "    </tr>\n",
       "  </tbody>\n",
       "</table>\n",
       "</div>"
      ],
      "text/plain": [
       "            df    sum_sq   mean_sq         F    PR(>F)\n",
       "C(suelo)   3.0  1.805837  0.601946  5.310726  0.009113\n",
       "Residual  17.0  1.926870  0.113345       NaN       NaN"
      ]
     },
     "execution_count": 69,
     "metadata": {},
     "output_type": "execute_result"
    }
   ],
   "source": [
    "from bioinfokit.analys import stat\n",
    "res = stat()\n",
    "res.anova_stat(df=dff3, res_var='calidad', anova_model='calidad ~ C(suelo)')\n",
    "res.anova_summary"
   ]
  },
  {
   "cell_type": "markdown",
   "id": "d9517212",
   "metadata": {},
   "source": [
    "$$\\color{blue}{\\textbf{Anova de una vía}}$$\n",
    "$$\\text{respuesta:intensidad; factor: tipo de suelo}$$"
   ]
  },
  {
   "cell_type": "code",
   "execution_count": 70,
   "id": "6cd1f888",
   "metadata": {},
   "outputs": [
    {
     "data": {
      "text/html": [
       "<div>\n",
       "<style scoped>\n",
       "    .dataframe tbody tr th:only-of-type {\n",
       "        vertical-align: middle;\n",
       "    }\n",
       "\n",
       "    .dataframe tbody tr th {\n",
       "        vertical-align: top;\n",
       "    }\n",
       "\n",
       "    .dataframe thead th {\n",
       "        text-align: right;\n",
       "    }\n",
       "</style>\n",
       "<table border=\"1\" class=\"dataframe\">\n",
       "  <thead>\n",
       "    <tr style=\"text-align: right;\">\n",
       "      <th></th>\n",
       "      <th>df</th>\n",
       "      <th>sum_sq</th>\n",
       "      <th>mean_sq</th>\n",
       "      <th>F</th>\n",
       "      <th>PR(&gt;F)</th>\n",
       "    </tr>\n",
       "  </thead>\n",
       "  <tbody>\n",
       "    <tr>\n",
       "      <th>C(suelo)</th>\n",
       "      <td>3.0</td>\n",
       "      <td>1.108341</td>\n",
       "      <td>0.369447</td>\n",
       "      <td>3.765904</td>\n",
       "      <td>0.030642</td>\n",
       "    </tr>\n",
       "    <tr>\n",
       "      <th>Residual</th>\n",
       "      <td>17.0</td>\n",
       "      <td>1.667754</td>\n",
       "      <td>0.098103</td>\n",
       "      <td>NaN</td>\n",
       "      <td>NaN</td>\n",
       "    </tr>\n",
       "  </tbody>\n",
       "</table>\n",
       "</div>"
      ],
      "text/plain": [
       "            df    sum_sq   mean_sq         F    PR(>F)\n",
       "C(suelo)   3.0  1.108341  0.369447  3.765904  0.030642\n",
       "Residual  17.0  1.667754  0.098103       NaN       NaN"
      ]
     },
     "execution_count": 70,
     "metadata": {},
     "output_type": "execute_result"
    }
   ],
   "source": [
    "res2 = stat()\n",
    "res2.anova_stat(df=dff3, res_var='intensidad', anova_model='intensidad ~ C(suelo)')\n",
    "res2.anova_summary"
   ]
  },
  {
   "cell_type": "markdown",
   "id": "79833340",
   "metadata": {},
   "source": [
    "$$\\color{blue}{\\textbf{Diagrama de caja evidenciando una estructura anidada}}$$\n"
   ]
  },
  {
   "cell_type": "code",
   "execution_count": 71,
   "id": "c1e337ad",
   "metadata": {},
   "outputs": [
    {
     "data": {
      "text/plain": [
       "<AxesSubplot:xlabel='suelo', ylabel='intensidad'>"
      ]
     },
     "execution_count": 71,
     "metadata": {},
     "output_type": "execute_result"
    },
    {
     "data": {
      "image/png": "[encoded data removed]",
      "text/plain": [
       "<Figure size 432x288 with 1 Axes>"
      ]
     },
     "metadata": {
      "needs_background": "light"
     },
     "output_type": "display_data"
    }
   ],
   "source": [
    "sns.boxplot(x=\"suelo\", y=\"intensidad\", hue=\"tipo\", data=dff3, palette=\"Set3\") "
   ]
  },
  {
   "cell_type": "markdown",
   "id": "22e7e6ad",
   "metadata": {},
   "source": [
    "$$\\color{blue}{\\textbf{Tabla cruzada evidenciando la estructura anidada}}$$"
   ]
  },
  {
   "cell_type": "code",
   "execution_count": 72,
   "id": "33853fcf",
   "metadata": {},
   "outputs": [
    {
     "data": {
      "text/html": [
       "<div>\n",
       "<style scoped>\n",
       "    .dataframe tbody tr th:only-of-type {\n",
       "        vertical-align: middle;\n",
       "    }\n",
       "\n",
       "    .dataframe tbody tr th {\n",
       "        vertical-align: top;\n",
       "    }\n",
       "\n",
       "    .dataframe thead th {\n",
       "        text-align: right;\n",
       "    }\n",
       "</style>\n",
       "<table border=\"1\" class=\"dataframe\">\n",
       "  <thead>\n",
       "    <tr style=\"text-align: right;\">\n",
       "      <th>suelo</th>\n",
       "      <th>Env1</th>\n",
       "      <th>Env2</th>\n",
       "      <th>Env4</th>\n",
       "      <th>Reference</th>\n",
       "    </tr>\n",
       "    <tr>\n",
       "      <th>tipo</th>\n",
       "      <th></th>\n",
       "      <th></th>\n",
       "      <th></th>\n",
       "      <th></th>\n",
       "    </tr>\n",
       "  </thead>\n",
       "  <tbody>\n",
       "    <tr>\n",
       "      <th>Bourgueuil</th>\n",
       "      <td>3</td>\n",
       "      <td>0</td>\n",
       "      <td>0</td>\n",
       "      <td>3</td>\n",
       "    </tr>\n",
       "    <tr>\n",
       "      <th>Chinon</th>\n",
       "      <td>1</td>\n",
       "      <td>2</td>\n",
       "      <td>0</td>\n",
       "      <td>1</td>\n",
       "    </tr>\n",
       "    <tr>\n",
       "      <th>Saumur</th>\n",
       "      <td>3</td>\n",
       "      <td>3</td>\n",
       "      <td>2</td>\n",
       "      <td>3</td>\n",
       "    </tr>\n",
       "  </tbody>\n",
       "</table>\n",
       "</div>"
      ],
      "text/plain": [
       "suelo       Env1  Env2  Env4  Reference\n",
       "tipo                                   \n",
       "Bourgueuil     3     0     0          3\n",
       "Chinon         1     2     0          1\n",
       "Saumur         3     3     2          3"
      ]
     },
     "execution_count": 72,
     "metadata": {},
     "output_type": "execute_result"
    }
   ],
   "source": [
    "pd.crosstab(dff3.tipo, dff3.suelo)"
   ]
  },
  {
   "cell_type": "markdown",
   "id": "c05316fe",
   "metadata": {},
   "source": [
    "$$\\color{blue}{\\textbf{Tabla de medias en la estructura anidada}}$$"
   ]
  },
  {
   "cell_type": "code",
   "execution_count": 73,
   "id": "c660cff0",
   "metadata": {},
   "outputs": [
    {
     "data": {
      "text/html": [
       "<div>\n",
       "<style scoped>\n",
       "    .dataframe tbody tr th:only-of-type {\n",
       "        vertical-align: middle;\n",
       "    }\n",
       "\n",
       "    .dataframe tbody tr th {\n",
       "        vertical-align: top;\n",
       "    }\n",
       "\n",
       "    .dataframe thead th {\n",
       "        text-align: right;\n",
       "    }\n",
       "</style>\n",
       "<table border=\"1\" class=\"dataframe\">\n",
       "  <thead>\n",
       "    <tr style=\"text-align: right;\">\n",
       "      <th></th>\n",
       "      <th></th>\n",
       "      <th>intensidad</th>\n",
       "      <th>calidad</th>\n",
       "    </tr>\n",
       "    <tr>\n",
       "      <th>tipo</th>\n",
       "      <th>suelo</th>\n",
       "      <th></th>\n",
       "      <th></th>\n",
       "    </tr>\n",
       "  </thead>\n",
       "  <tbody>\n",
       "    <tr>\n",
       "      <th rowspan=\"2\" valign=\"top\">Bourgueuil</th>\n",
       "      <th>Env1</th>\n",
       "      <td>2.858000</td>\n",
       "      <td>3.183000</td>\n",
       "    </tr>\n",
       "    <tr>\n",
       "      <th>Reference</th>\n",
       "      <td>3.440333</td>\n",
       "      <td>3.702333</td>\n",
       "    </tr>\n",
       "    <tr>\n",
       "      <th rowspan=\"3\" valign=\"top\">Chinon</th>\n",
       "      <th>Env1</th>\n",
       "      <td>3.148000</td>\n",
       "      <td>3.200000</td>\n",
       "    </tr>\n",
       "    <tr>\n",
       "      <th>Env2</th>\n",
       "      <td>2.749500</td>\n",
       "      <td>2.964000</td>\n",
       "    </tr>\n",
       "    <tr>\n",
       "      <th>Reference</th>\n",
       "      <td>3.321000</td>\n",
       "      <td>3.536000</td>\n",
       "    </tr>\n",
       "    <tr>\n",
       "      <th rowspan=\"4\" valign=\"top\">Saumur</th>\n",
       "      <th>Env1</th>\n",
       "      <td>3.023667</td>\n",
       "      <td>3.333333</td>\n",
       "    </tr>\n",
       "    <tr>\n",
       "      <th>Env2</th>\n",
       "      <td>3.154667</td>\n",
       "      <td>3.299333</td>\n",
       "    </tr>\n",
       "    <tr>\n",
       "      <th>Env4</th>\n",
       "      <td>3.185000</td>\n",
       "      <td>2.747500</td>\n",
       "    </tr>\n",
       "    <tr>\n",
       "      <th>Reference</th>\n",
       "      <td>3.572333</td>\n",
       "      <td>3.747000</td>\n",
       "    </tr>\n",
       "  </tbody>\n",
       "</table>\n",
       "</div>"
      ],
      "text/plain": [
       "                      intensidad   calidad\n",
       "tipo       suelo                          \n",
       "Bourgueuil Env1         2.858000  3.183000\n",
       "           Reference    3.440333  3.702333\n",
       "Chinon     Env1         3.148000  3.200000\n",
       "           Env2         2.749500  2.964000\n",
       "           Reference    3.321000  3.536000\n",
       "Saumur     Env1         3.023667  3.333333\n",
       "           Env2         3.154667  3.299333\n",
       "           Env4         3.185000  2.747500\n",
       "           Reference    3.572333  3.747000"
      ]
     },
     "execution_count": 73,
     "metadata": {},
     "output_type": "execute_result"
    }
   ],
   "source": [
    "dff3.groupby(['tipo', 'suelo']).mean()"
   ]
  },
  {
   "cell_type": "markdown",
   "id": "9a820fd5",
   "metadata": {},
   "source": [
    "$$\\color{blue}{\\textbf{Un nuevo Dataframe}}$$"
   ]
  },
  {
   "cell_type": "code",
   "execution_count": 74,
   "id": "fa8988ab",
   "metadata": {},
   "outputs": [
    {
     "data": {
      "text/html": [
       "<div>\n",
       "<style scoped>\n",
       "    .dataframe tbody tr th:only-of-type {\n",
       "        vertical-align: middle;\n",
       "    }\n",
       "\n",
       "    .dataframe tbody tr th {\n",
       "        vertical-align: top;\n",
       "    }\n",
       "\n",
       "    .dataframe thead th {\n",
       "        text-align: right;\n",
       "    }\n",
       "</style>\n",
       "<table border=\"1\" class=\"dataframe\">\n",
       "  <thead>\n",
       "    <tr style=\"text-align: right;\">\n",
       "      <th></th>\n",
       "      <th>L</th>\n",
       "      <th>a</th>\n",
       "      <th>b</th>\n",
       "      <th>tueste</th>\n",
       "      <th>metodo</th>\n",
       "    </tr>\n",
       "  </thead>\n",
       "  <tbody>\n",
       "    <tr>\n",
       "      <th>0</th>\n",
       "      <td>15.190326</td>\n",
       "      <td>23.668751</td>\n",
       "      <td>21.964649</td>\n",
       "      <td>verde</td>\n",
       "      <td>tradicional</td>\n",
       "    </tr>\n",
       "    <tr>\n",
       "      <th>1</th>\n",
       "      <td>12.327745</td>\n",
       "      <td>20.777119</td>\n",
       "      <td>21.016556</td>\n",
       "      <td>verde</td>\n",
       "      <td>tradicional</td>\n",
       "    </tr>\n",
       "    <tr>\n",
       "      <th>2</th>\n",
       "      <td>13.532245</td>\n",
       "      <td>23.299168</td>\n",
       "      <td>23.883105</td>\n",
       "      <td>verde</td>\n",
       "      <td>tradicional</td>\n",
       "    </tr>\n",
       "    <tr>\n",
       "      <th>3</th>\n",
       "      <td>13.596647</td>\n",
       "      <td>21.078218</td>\n",
       "      <td>20.412357</td>\n",
       "      <td>verde</td>\n",
       "      <td>tradicional</td>\n",
       "    </tr>\n",
       "    <tr>\n",
       "      <th>4</th>\n",
       "      <td>13.344347</td>\n",
       "      <td>19.525299</td>\n",
       "      <td>20.695920</td>\n",
       "      <td>verde</td>\n",
       "      <td>tradicional</td>\n",
       "    </tr>\n",
       "  </tbody>\n",
       "</table>\n",
       "</div>"
      ],
      "text/plain": [
       "           L          a          b tueste       metodo\n",
       "0  15.190326  23.668751  21.964649  verde  tradicional\n",
       "1  12.327745  20.777119  21.016556  verde  tradicional\n",
       "2  13.532245  23.299168  23.883105  verde  tradicional\n",
       "3  13.596647  21.078218  20.412357  verde  tradicional\n",
       "4  13.344347  19.525299  20.695920  verde  tradicional"
      ]
     },
     "execution_count": 74,
     "metadata": {},
     "output_type": "execute_result"
    }
   ],
   "source": [
    "dfc=pd.read_excel('https://github.com/darghan/unal/blob/main/Cielab_tueste_cafe.xlsx?raw=true')\n",
    "dfc.head()"
   ]
  },
  {
   "cell_type": "markdown",
   "id": "aaff3954",
   "metadata": {},
   "source": [
    "$$\\color{blue}{\\textbf{Anova de una vía o de dos vías}}$$\n",
    "$$\\text{respuestas:L, a, b; factor: tostación y método}$$\n",
    "$$\\text{Estructura cruzada}$$"
   ]
  },
  {
   "cell_type": "code",
   "execution_count": 182,
   "id": "3012a4b1",
   "metadata": {},
   "outputs": [
    {
     "data": {
      "text/html": [
       "<div>\n",
       "<style scoped>\n",
       "    .dataframe tbody tr th:only-of-type {\n",
       "        vertical-align: middle;\n",
       "    }\n",
       "\n",
       "    .dataframe tbody tr th {\n",
       "        vertical-align: top;\n",
       "    }\n",
       "\n",
       "    .dataframe thead th {\n",
       "        text-align: right;\n",
       "    }\n",
       "</style>\n",
       "<table border=\"1\" class=\"dataframe\">\n",
       "  <thead>\n",
       "    <tr style=\"text-align: right;\">\n",
       "      <th>metodo</th>\n",
       "      <th>alterno</th>\n",
       "      <th>tradicional</th>\n",
       "    </tr>\n",
       "    <tr>\n",
       "      <th>tueste</th>\n",
       "      <th></th>\n",
       "      <th></th>\n",
       "    </tr>\n",
       "  </thead>\n",
       "  <tbody>\n",
       "    <tr>\n",
       "      <th>claro</th>\n",
       "      <td>15</td>\n",
       "      <td>15</td>\n",
       "    </tr>\n",
       "    <tr>\n",
       "      <th>medio</th>\n",
       "      <td>15</td>\n",
       "      <td>15</td>\n",
       "    </tr>\n",
       "    <tr>\n",
       "      <th>oscuro</th>\n",
       "      <td>15</td>\n",
       "      <td>15</td>\n",
       "    </tr>\n",
       "    <tr>\n",
       "      <th>verde</th>\n",
       "      <td>15</td>\n",
       "      <td>15</td>\n",
       "    </tr>\n",
       "  </tbody>\n",
       "</table>\n",
       "</div>"
      ],
      "text/plain": [
       "metodo  alterno  tradicional\n",
       "tueste                      \n",
       "claro        15           15\n",
       "medio        15           15\n",
       "oscuro       15           15\n",
       "verde        15           15"
      ]
     },
     "execution_count": 182,
     "metadata": {},
     "output_type": "execute_result"
    }
   ],
   "source": [
    "pd.crosstab(dfc.tueste, dfc.metodo)"
   ]
  },
  {
   "cell_type": "markdown",
   "id": "1996169a",
   "metadata": {},
   "source": [
    "$$\\color{blue}{\\textbf{Diagrama de cajas en estructura cruzada}}$$\n"
   ]
  },
  {
   "cell_type": "code",
   "execution_count": 77,
   "id": "03d4ef7a",
   "metadata": {},
   "outputs": [
    {
     "data": {
      "text/plain": [
       "<AxesSubplot:xlabel='tueste', ylabel='L'>"
      ]
     },
     "execution_count": 77,
     "metadata": {},
     "output_type": "execute_result"
    },
    {
     "data": {
      "image/png": "[encoded data removed]",
      "text/plain": [
       "<Figure size 432x288 with 1 Axes>"
      ]
     },
     "metadata": {
      "needs_background": "light"
     },
     "output_type": "display_data"
    }
   ],
   "source": [
    "sns.boxplot(x=\"tueste\", y=\"L\", hue=\"metodo\", data=dfc, palette=\"Set3\") "
   ]
  },
  {
   "cell_type": "markdown",
   "id": "20f60f19",
   "metadata": {},
   "source": [
    "$$\\color{blue}{\\textbf{Gráfico de interacción con promedios}}$$\n"
   ]
  },
  {
   "cell_type": "code",
   "execution_count": 184,
   "id": "ea2db5e1",
   "metadata": {},
   "outputs": [
    {
     "data": {
      "image/png": "[encoded data removed]",
      "text/plain": [
       "<Figure size 432x288 with 1 Axes>"
      ]
     },
     "metadata": {
      "needs_background": "light"
     },
     "output_type": "display_data"
    }
   ],
   "source": [
    "ax = sns.pointplot(x=\"tueste\", y=\"L\", hue=\"metodo\",data=dfc, dodge=True)"
   ]
  },
  {
   "cell_type": "markdown",
   "id": "6184822f",
   "metadata": {},
   "source": [
    "$$\\color{blue}{\\textbf{Gráfico de interacción con medianas}}$$"
   ]
  },
  {
   "cell_type": "code",
   "execution_count": 81,
   "id": "e0887e3c",
   "metadata": {},
   "outputs": [
    {
     "data": {
      "image/png": "[encoded data removed]",
      "text/plain": [
       "<Figure size 432x288 with 1 Axes>"
      ]
     },
     "metadata": {
      "needs_background": "light"
     },
     "output_type": "display_data"
    }
   ],
   "source": [
    "from numpy import median\n",
    "ax = sns.pointplot(x=\"tueste\", y=\"L\",hue=\"metodo\", data=dfc, estimator=median)"
   ]
  },
  {
   "cell_type": "markdown",
   "id": "5da0b3b3",
   "metadata": {},
   "source": [
    "$$\\color{blue}{\\textbf{Gráfico de interacción con promedios e intervalo de confianza bootstap}}$$"
   ]
  },
  {
   "cell_type": "code",
   "execution_count": 82,
   "id": "3b4735ba",
   "metadata": {},
   "outputs": [
    {
     "data": {
      "image/png": "[encoded data removed]",
      "text/plain": [
       "<Figure size 432x288 with 1 Axes>"
      ]
     },
     "metadata": {
      "needs_background": "light"
     },
     "output_type": "display_data"
    }
   ],
   "source": [
    "ax = sns.pointplot(x=\"tueste\", y=\"L\",hue=\"metodo\", data=dfc, ci=95)"
   ]
  },
  {
   "cell_type": "markdown",
   "id": "1df0f43e",
   "metadata": {},
   "source": [
    "$$\\color{blue}{\\textbf{Gráfico de interacción con promedios y desviaciones estándar}}$$"
   ]
  },
  {
   "cell_type": "code",
   "execution_count": 83,
   "id": "af41209a",
   "metadata": {},
   "outputs": [
    {
     "data": {
      "image/png": "[encoded data removed]",
      "text/plain": [
       "<Figure size 432x288 with 1 Axes>"
      ]
     },
     "metadata": {
      "needs_background": "light"
     },
     "output_type": "display_data"
    }
   ],
   "source": [
    "ax = sns.pointplot(x=\"tueste\", y=\"L\",hue=\"metodo\", data=dfc, ci=\"sd\")"
   ]
  },
  {
   "cell_type": "markdown",
   "id": "0c219151",
   "metadata": {},
   "source": [
    "$$\\color{blue}{\\textbf{Anova de dos vías}}$$\n",
    "$$\\text{respuestas:L, a, b; factor: tostación y método}$$\n"
   ]
  },
  {
   "cell_type": "code",
   "execution_count": 84,
   "id": "6c0f2793",
   "metadata": {},
   "outputs": [
    {
     "data": {
      "text/html": [
       "<div>\n",
       "<style scoped>\n",
       "    .dataframe tbody tr th:only-of-type {\n",
       "        vertical-align: middle;\n",
       "    }\n",
       "\n",
       "    .dataframe tbody tr th {\n",
       "        vertical-align: top;\n",
       "    }\n",
       "\n",
       "    .dataframe thead th {\n",
       "        text-align: right;\n",
       "    }\n",
       "</style>\n",
       "<table border=\"1\" class=\"dataframe\">\n",
       "  <thead>\n",
       "    <tr style=\"text-align: right;\">\n",
       "      <th></th>\n",
       "      <th>sum_sq</th>\n",
       "      <th>df</th>\n",
       "      <th>F</th>\n",
       "      <th>PR(&gt;F)</th>\n",
       "    </tr>\n",
       "  </thead>\n",
       "  <tbody>\n",
       "    <tr>\n",
       "      <th>C(tueste)</th>\n",
       "      <td>3907.810048</td>\n",
       "      <td>3.0</td>\n",
       "      <td>567.868379</td>\n",
       "      <td>1.468503e-67</td>\n",
       "    </tr>\n",
       "    <tr>\n",
       "      <th>C(metodo)</th>\n",
       "      <td>0.932568</td>\n",
       "      <td>1.0</td>\n",
       "      <td>0.406552</td>\n",
       "      <td>5.250262e-01</td>\n",
       "    </tr>\n",
       "    <tr>\n",
       "      <th>C(tueste):C(metodo)</th>\n",
       "      <td>3.449178</td>\n",
       "      <td>3.0</td>\n",
       "      <td>0.501222</td>\n",
       "      <td>6.822018e-01</td>\n",
       "    </tr>\n",
       "    <tr>\n",
       "      <th>Residual</th>\n",
       "      <td>256.910898</td>\n",
       "      <td>112.0</td>\n",
       "      <td>NaN</td>\n",
       "      <td>NaN</td>\n",
       "    </tr>\n",
       "  </tbody>\n",
       "</table>\n",
       "</div>"
      ],
      "text/plain": [
       "                          sum_sq     df           F        PR(>F)\n",
       "C(tueste)            3907.810048    3.0  567.868379  1.468503e-67\n",
       "C(metodo)               0.932568    1.0    0.406552  5.250262e-01\n",
       "C(tueste):C(metodo)     3.449178    3.0    0.501222  6.822018e-01\n",
       "Residual              256.910898  112.0         NaN           NaN"
      ]
     },
     "execution_count": 84,
     "metadata": {},
     "output_type": "execute_result"
    }
   ],
   "source": [
    "model2 = ols('L ~ C(tueste) + C(metodo) + C(tueste):C(metodo)', data=dfc).fit()\n",
    "anova_tab2v = sm.stats.anova_lm(model2, typ=2)\n",
    "anova_tab2v"
   ]
  },
  {
   "cell_type": "markdown",
   "id": "b989390a",
   "metadata": {},
   "source": [
    "$$\\color{blue}{\\textbf{Anova de una vía o de dos vías: forma alterna para extraer residuales en stat()}}$$\n"
   ]
  },
  {
   "cell_type": "markdown",
   "id": "0312cf74",
   "metadata": {},
   "source": [
    "$$\\color{blue}{\\textbf{Modelo}}$$\n",
    "$$y_{ij}=\\mu+\\tau_i+\\beta_j+(\\tau\\beta)_{ij}+\\epsilon_{ij}$$\n",
    "$$Hipótesis$$\n",
    "$$Ho_{1}: \\tau_1=\\tau_2=\\tau_3=\\tau_4=0$$\n",
    "$$Ho_{2}: \\beta_1=\\beta_2=0$$\n",
    "$$Ho_{3}: (\\tau\\beta)_{ij}=0;\\forall{i;j} $$    "
   ]
  },
  {
   "cell_type": "code",
   "execution_count": null,
   "id": "b7ea2d5b",
   "metadata": {},
   "outputs": [],
   "source": [
    "from bioinfokit.analys import stat\n",
    "res2v = stat()\n",
    "res2v.anova_stat(df=dfc, res_var='L', anova_model='L~C(tueste)+C(metodo)+C(tueste):C(metodo)')\n",
    "res2v.anova_summary"
   ]
  },
  {
   "cell_type": "markdown",
   "id": "9e114f65",
   "metadata": {},
   "source": [
    "$$\\color{blue}{\\textbf{Comparación de medias a posteriori para el factor que rechazó su Ho}}$$\n"
   ]
  },
  {
   "cell_type": "code",
   "execution_count": 189,
   "id": "5c1ecd8b",
   "metadata": {},
   "outputs": [
    {
     "name": "stderr",
     "output_type": "stream",
     "text": [
      "C:\\Users\\57316\\anaconda3\\lib\\site-packages\\bioinfokit\\analys.py:402: FutureWarning: Dropping of nuisance columns in DataFrame reductions (with 'numeric_only=None') is deprecated; in a future version this will raise TypeError.  Select only valid columns before calling the reduction.\n",
      "  mult_group[ele] = df[df[xfac_var] == ele].mean().loc[res_var]\n"
     ]
    },
    {
     "data": {
      "text/html": [
       "<div>\n",
       "<style scoped>\n",
       "    .dataframe tbody tr th:only-of-type {\n",
       "        vertical-align: middle;\n",
       "    }\n",
       "\n",
       "    .dataframe tbody tr th {\n",
       "        vertical-align: top;\n",
       "    }\n",
       "\n",
       "    .dataframe thead th {\n",
       "        text-align: right;\n",
       "    }\n",
       "</style>\n",
       "<table border=\"1\" class=\"dataframe\">\n",
       "  <thead>\n",
       "    <tr style=\"text-align: right;\">\n",
       "      <th></th>\n",
       "      <th>group1</th>\n",
       "      <th>group2</th>\n",
       "      <th>Diff</th>\n",
       "      <th>Lower</th>\n",
       "      <th>Upper</th>\n",
       "      <th>q-value</th>\n",
       "      <th>p-value</th>\n",
       "    </tr>\n",
       "  </thead>\n",
       "  <tbody>\n",
       "    <tr>\n",
       "      <th>0</th>\n",
       "      <td>verde</td>\n",
       "      <td>claro</td>\n",
       "      <td>15.209706</td>\n",
       "      <td>14.189764</td>\n",
       "      <td>16.229648</td>\n",
       "      <td>55.004625</td>\n",
       "      <td>0.001</td>\n",
       "    </tr>\n",
       "    <tr>\n",
       "      <th>1</th>\n",
       "      <td>verde</td>\n",
       "      <td>medio</td>\n",
       "      <td>3.122244</td>\n",
       "      <td>2.102302</td>\n",
       "      <td>4.142186</td>\n",
       "      <td>11.291333</td>\n",
       "      <td>0.001</td>\n",
       "    </tr>\n",
       "    <tr>\n",
       "      <th>2</th>\n",
       "      <td>verde</td>\n",
       "      <td>oscuro</td>\n",
       "      <td>4.847377</td>\n",
       "      <td>3.827435</td>\n",
       "      <td>5.867319</td>\n",
       "      <td>17.530132</td>\n",
       "      <td>0.001</td>\n",
       "    </tr>\n",
       "    <tr>\n",
       "      <th>3</th>\n",
       "      <td>claro</td>\n",
       "      <td>medio</td>\n",
       "      <td>12.087462</td>\n",
       "      <td>11.067520</td>\n",
       "      <td>13.107404</td>\n",
       "      <td>43.713292</td>\n",
       "      <td>0.001</td>\n",
       "    </tr>\n",
       "    <tr>\n",
       "      <th>4</th>\n",
       "      <td>claro</td>\n",
       "      <td>oscuro</td>\n",
       "      <td>10.362329</td>\n",
       "      <td>9.342387</td>\n",
       "      <td>11.382271</td>\n",
       "      <td>37.474493</td>\n",
       "      <td>0.001</td>\n",
       "    </tr>\n",
       "    <tr>\n",
       "      <th>5</th>\n",
       "      <td>medio</td>\n",
       "      <td>oscuro</td>\n",
       "      <td>1.725133</td>\n",
       "      <td>0.705191</td>\n",
       "      <td>2.745075</td>\n",
       "      <td>6.238799</td>\n",
       "      <td>0.001</td>\n",
       "    </tr>\n",
       "  </tbody>\n",
       "</table>\n",
       "</div>"
      ],
      "text/plain": [
       "  group1  group2       Diff      Lower      Upper    q-value  p-value\n",
       "0  verde   claro  15.209706  14.189764  16.229648  55.004625    0.001\n",
       "1  verde   medio   3.122244   2.102302   4.142186  11.291333    0.001\n",
       "2  verde  oscuro   4.847377   3.827435   5.867319  17.530132    0.001\n",
       "3  claro   medio  12.087462  11.067520  13.107404  43.713292    0.001\n",
       "4  claro  oscuro  10.362329   9.342387  11.382271  37.474493    0.001\n",
       "5  medio  oscuro   1.725133   0.705191   2.745075   6.238799    0.001"
      ]
     },
     "execution_count": 189,
     "metadata": {},
     "output_type": "execute_result"
    }
   ],
   "source": [
    "reshsd = stat()\n",
    "# efecto principal\n",
    "reshsd.tukey_hsd(df=dfc, res_var='L', xfac_var='tueste', anova_model='L~C(tueste)+C(metodo)+C(tueste):C(metodo)')\n",
    "reshsd.tukey_summary"
   ]
  },
  {
   "cell_type": "markdown",
   "id": "04a69338",
   "metadata": {},
   "source": [
    "$$\\color{blue}{\\textbf{Comparación de medias a posteriori para la interacción:innecesaria}}$$"
   ]
  },
  {
   "cell_type": "code",
   "execution_count": 190,
   "id": "9b23d6f6",
   "metadata": {},
   "outputs": [
    {
     "name": "stderr",
     "output_type": "stream",
     "text": [
      "C:\\Users\\57316\\anaconda3\\lib\\site-packages\\bioinfokit\\analys.py:368: FutureWarning: Dropping of nuisance columns in DataFrame reductions (with 'numeric_only=None') is deprecated; in a future version this will raise TypeError.  Select only valid columns before calling the reduction.\n",
      "  mult_group[(ele1, ele2)] = df[(df[xfac_var[0]] == ele1) &\n"
     ]
    },
    {
     "data": {
      "text/html": [
       "<div>\n",
       "<style scoped>\n",
       "    .dataframe tbody tr th:only-of-type {\n",
       "        vertical-align: middle;\n",
       "    }\n",
       "\n",
       "    .dataframe tbody tr th {\n",
       "        vertical-align: top;\n",
       "    }\n",
       "\n",
       "    .dataframe thead th {\n",
       "        text-align: right;\n",
       "    }\n",
       "</style>\n",
       "<table border=\"1\" class=\"dataframe\">\n",
       "  <thead>\n",
       "    <tr style=\"text-align: right;\">\n",
       "      <th></th>\n",
       "      <th>group1</th>\n",
       "      <th>group2</th>\n",
       "      <th>Diff</th>\n",
       "      <th>Lower</th>\n",
       "      <th>Upper</th>\n",
       "      <th>q-value</th>\n",
       "      <th>p-value</th>\n",
       "    </tr>\n",
       "  </thead>\n",
       "  <tbody>\n",
       "    <tr>\n",
       "      <th>0</th>\n",
       "      <td>(verde, tradicional)</td>\n",
       "      <td>(verde, alterno)</td>\n",
       "      <td>0.667577</td>\n",
       "      <td>-1.040700</td>\n",
       "      <td>2.375855</td>\n",
       "      <td>1.707123</td>\n",
       "      <td>0.900</td>\n",
       "    </tr>\n",
       "    <tr>\n",
       "      <th>1</th>\n",
       "      <td>(verde, tradicional)</td>\n",
       "      <td>(claro, tradicional)</td>\n",
       "      <td>14.925660</td>\n",
       "      <td>13.217382</td>\n",
       "      <td>16.633937</td>\n",
       "      <td>38.167781</td>\n",
       "      <td>0.001</td>\n",
       "    </tr>\n",
       "    <tr>\n",
       "      <th>2</th>\n",
       "      <td>(verde, tradicional)</td>\n",
       "      <td>(claro, alterno)</td>\n",
       "      <td>14.826176</td>\n",
       "      <td>13.117898</td>\n",
       "      <td>16.534453</td>\n",
       "      <td>37.913381</td>\n",
       "      <td>0.001</td>\n",
       "    </tr>\n",
       "    <tr>\n",
       "      <th>3</th>\n",
       "      <td>(verde, tradicional)</td>\n",
       "      <td>(medio, tradicional)</td>\n",
       "      <td>2.898881</td>\n",
       "      <td>1.190603</td>\n",
       "      <td>4.607158</td>\n",
       "      <td>7.412995</td>\n",
       "      <td>0.001</td>\n",
       "    </tr>\n",
       "    <tr>\n",
       "      <th>4</th>\n",
       "      <td>(verde, tradicional)</td>\n",
       "      <td>(medio, alterno)</td>\n",
       "      <td>2.678030</td>\n",
       "      <td>0.969752</td>\n",
       "      <td>4.386308</td>\n",
       "      <td>6.848237</td>\n",
       "      <td>0.001</td>\n",
       "    </tr>\n",
       "  </tbody>\n",
       "</table>\n",
       "</div>"
      ],
      "text/plain": [
       "                 group1                group2       Diff      Lower  \\\n",
       "0  (verde, tradicional)      (verde, alterno)   0.667577  -1.040700   \n",
       "1  (verde, tradicional)  (claro, tradicional)  14.925660  13.217382   \n",
       "2  (verde, tradicional)      (claro, alterno)  14.826176  13.117898   \n",
       "3  (verde, tradicional)  (medio, tradicional)   2.898881   1.190603   \n",
       "4  (verde, tradicional)      (medio, alterno)   2.678030   0.969752   \n",
       "\n",
       "       Upper    q-value  p-value  \n",
       "0   2.375855   1.707123    0.900  \n",
       "1  16.633937  38.167781    0.001  \n",
       "2  16.534453  37.913381    0.001  \n",
       "3   4.607158   7.412995    0.001  \n",
       "4   4.386308   6.848237    0.001  "
      ]
     },
     "execution_count": 190,
     "metadata": {},
     "output_type": "execute_result"
    }
   ],
   "source": [
    "reshsd.tukey_hsd(df=dfc, res_var='L', xfac_var=['tueste','metodo'], anova_model='L ~ C(tueste) + C(metodo) + C(tueste):C(metodo)')\n",
    "reshsd.tukey_summary.head()"
   ]
  },
  {
   "cell_type": "markdown",
   "id": "c28b26f0",
   "metadata": {},
   "source": [
    "$$\\color{blue}{\\textbf{Extracción y gráfico de residuales del modelo de 2 vías}}$$"
   ]
  },
  {
   "cell_type": "code",
   "execution_count": 163,
   "id": "75769796",
   "metadata": {},
   "outputs": [
    {
     "data": {
      "image/png": "[encoded data removed]",
      "text/plain": [
       "<Figure size 432x288 with 1 Axes>"
      ]
     },
     "metadata": {
      "needs_background": "light"
     },
     "output_type": "display_data"
    }
   ],
   "source": [
    "plt.hist(res2v.anova_model_out.resid, bins=20, histtype='bar', ec='k') \n",
    "plt.xlabel(\"Residuales\")\n",
    "plt.ylabel('Frecuencia')\n",
    "plt.show()"
   ]
  },
  {
   "cell_type": "markdown",
   "id": "eb385e35",
   "metadata": {},
   "source": [
    "$$\\color{blue}{\\textbf{prueba de Normalidad dfe residuales del modelo de 2 vías}}$$"
   ]
  },
  {
   "cell_type": "code",
   "execution_count": 164,
   "id": "53bef903",
   "metadata": {},
   "outputs": [
    {
     "name": "stdout",
     "output_type": "stream",
     "text": [
      "0.9910377264022827 0.6299136877059937\n"
     ]
    }
   ],
   "source": [
    "import scipy.stats as stats\n",
    "w, pvalue = stats.shapiro(res2v.anova_model_out.resid)\n",
    "print(w, pvalue)"
   ]
  },
  {
   "cell_type": "markdown",
   "id": "0b842945",
   "metadata": {},
   "source": [
    "$$\\color{blue}{\\textbf{Histograma y densidad de residuales del modelo de 2 vías}}$$"
   ]
  },
  {
   "cell_type": "code",
   "execution_count": 192,
   "id": "29be7298",
   "metadata": {},
   "outputs": [
    {
     "name": "stderr",
     "output_type": "stream",
     "text": [
      "C:\\Users\\57316\\anaconda3\\lib\\site-packages\\seaborn\\distributions.py:2619: FutureWarning: `distplot` is a deprecated function and will be removed in a future version. Please adapt your code to use either `displot` (a figure-level function with similar flexibility) or `histplot` (an axes-level function for histograms).\n",
      "  warnings.warn(msg, FutureWarning)\n"
     ]
    },
    {
     "data": {
      "image/png": "[encoded data removed]",
      "text/plain": [
       "<Figure size 432x288 with 1 Axes>"
      ]
     },
     "metadata": {
      "needs_background": "light"
     },
     "output_type": "display_data"
    }
   ],
   "source": [
    "import seaborn as sns\n",
    "import matplotlib.pyplot as plt\n",
    "sns.distplot(a=res2v.anova_model_out.resid)\n",
    "plt.show()\n"
   ]
  },
  {
   "cell_type": "code",
   "execution_count": 200,
   "id": "73fd964c",
   "metadata": {},
   "outputs": [
    {
     "name": "stderr",
     "output_type": "stream",
     "text": [
      "C:\\Users\\57316\\anaconda3\\lib\\site-packages\\seaborn\\distributions.py:2619: FutureWarning: `distplot` is a deprecated function and will be removed in a future version. Please adapt your code to use either `displot` (a figure-level function with similar flexibility) or `histplot` (an axes-level function for histograms).\n",
      "  warnings.warn(msg, FutureWarning)\n"
     ]
    },
    {
     "data": {
      "text/plain": [
       "<AxesSubplot:ylabel='Density'>"
      ]
     },
     "execution_count": 200,
     "metadata": {},
     "output_type": "execute_result"
    },
    {
     "data": {
      "image/png": "[encoded data removed]",
      "text/plain": [
       "<Figure size 432x288 with 1 Axes>"
      ]
     },
     "metadata": {
      "needs_background": "light"
     },
     "output_type": "display_data"
    }
   ],
   "source": [
    "sns.distplot(a=res2v.anova_model_out.resid, bins=20, color='purple',\n",
    "             hist_kws={\"edgecolor\": 'black'})"
   ]
  },
  {
   "cell_type": "markdown",
   "id": "b47ce134",
   "metadata": {},
   "source": [
    "$$\\color{blue}{\\textbf{Transformamos para mayor ajuste a normalidad?}}$$"
   ]
  },
  {
   "cell_type": "markdown",
   "id": "6deade86",
   "metadata": {},
   "source": [
    "$$\\color{blue}{\\textbf{Box-cox: Datos positivos}}$$\n",
    "$$f(\\lambda) = \\begin{cases}\n",
    "  {{y^{\\lambda}-1}\\over{\\lambda}}  & \\lambda \\neq{0} \\\\\n",
    "  log{y} & \\lambda =0\n",
    "\\end{cases}$$"
   ]
  },
  {
   "cell_type": "code",
   "execution_count": 201,
   "id": "4a62e4df",
   "metadata": {},
   "outputs": [],
   "source": [
    "from scipy import stats\n",
    "L_t, lmbda = stats.boxcox(dfc['L'])"
   ]
  },
  {
   "cell_type": "code",
   "execution_count": 202,
   "id": "fa678e35",
   "metadata": {},
   "outputs": [
    {
     "name": "stdout",
     "output_type": "stream",
     "text": [
      "[1.19957432 1.16731552 1.18231342 1.18305087 1.18012704 1.16766471\n",
      " 1.21033668 1.18912331 1.15938822 1.19423856 1.17909933 1.19595255\n",
      " 1.19516318 1.1926949  1.19679887 1.18438528 1.17471426 1.17293291\n",
      " 1.18546155 1.18976331 1.19340146 1.1976405  1.18749055 1.16486107\n",
      " 1.19079034 1.17643755 1.20568795 1.13624001 1.13109674 1.17340711\n",
      " 1.27028879 1.25607148 1.27040494 1.27886094 1.26527595 1.27831191\n",
      " 1.27263485 1.27722298 1.27897588 1.27773756 1.26603151 1.28235082\n",
      " 1.27529311 1.27444735 1.2717614  1.27304926 1.27208635 1.27144207\n",
      " 1.2731791  1.27457767 1.27436874 1.27245797 1.26999172 1.26675861\n",
      " 1.27694037 1.27236122 1.27054391 1.27584311 1.27423307 1.27787483\n",
      " 1.19045097 1.20873659 1.21339719 1.2147142  1.20271566 1.2074237\n",
      " 1.21139927 1.22202731 1.21493578 1.23848954 1.21267496 1.21850466\n",
      " 1.19586757 1.21799243 1.22802255 1.20039976 1.21790641 1.21601957\n",
      " 1.19843999 1.21558921 1.20709641 1.18839589 1.2166385  1.21783019\n",
      " 1.23298462 1.21623374 1.19783562 1.21146591 1.23052041 1.20312321\n",
      " 1.22884556 1.21908971 1.20404499 1.21000998 1.22759488 1.21641777\n",
      " 1.23156103 1.23063775 1.22784512 1.22790977 1.21975905 1.22409567\n",
      " 1.2346117  1.2283835  1.23442302 1.23341751 1.23514386 1.21723132\n",
      " 1.22401116 1.2370925  1.20353486 1.22626835 1.24880009 1.21248007\n",
      " 1.223204   1.21717543 1.22224159 1.22241025 1.23993788 1.22499124]\n"
     ]
    }
   ],
   "source": [
    "print(L_t)"
   ]
  },
  {
   "cell_type": "code",
   "execution_count": 203,
   "id": "0cfe47a2",
   "metadata": {},
   "outputs": [
    {
     "name": "stdout",
     "output_type": "stream",
     "text": [
      "-0.7142050367538869\n"
     ]
    }
   ],
   "source": [
    "print(lmbda)"
   ]
  },
  {
   "cell_type": "code",
   "execution_count": 204,
   "id": "e3f50c3a",
   "metadata": {},
   "outputs": [
    {
     "name": "stdout",
     "output_type": "stream",
     "text": [
      "mejor lambda = -0.714\n"
     ]
    }
   ],
   "source": [
    "print('mejor lambda = %s' % round(lmbda, 3))"
   ]
  },
  {
   "cell_type": "code",
   "execution_count": 205,
   "id": "766a3e24",
   "metadata": {},
   "outputs": [
    {
     "data": {
      "image/png": "[encoded data removed]",
      "text/plain": [
       "<Figure size 576x288 with 1 Axes>"
      ]
     },
     "metadata": {
      "needs_background": "light"
     },
     "output_type": "display_data"
    }
   ],
   "source": [
    "fig, ax = plt.subplots(figsize=(8, 4))\n",
    "prob = stats.boxcox_normplot(dfc['L'], -12, 12, plot=ax)\n",
    "ax.axvline(lmbda, color='r');"
   ]
  },
  {
   "cell_type": "markdown",
   "id": "06cd08bb",
   "metadata": {},
   "source": [
    "$$\\color{blue}{\\textbf{Ingresando la variable transformada al dataframe}}$$"
   ]
  },
  {
   "cell_type": "code",
   "execution_count": 206,
   "id": "34a08b3a",
   "metadata": {},
   "outputs": [],
   "source": [
    "dfct=dfc.assign(Lt=L_t)"
   ]
  },
  {
   "cell_type": "code",
   "execution_count": 207,
   "id": "9a6a4ef6",
   "metadata": {},
   "outputs": [
    {
     "data": {
      "text/html": [
       "<div>\n",
       "<style scoped>\n",
       "    .dataframe tbody tr th:only-of-type {\n",
       "        vertical-align: middle;\n",
       "    }\n",
       "\n",
       "    .dataframe tbody tr th {\n",
       "        vertical-align: top;\n",
       "    }\n",
       "\n",
       "    .dataframe thead th {\n",
       "        text-align: right;\n",
       "    }\n",
       "</style>\n",
       "<table border=\"1\" class=\"dataframe\">\n",
       "  <thead>\n",
       "    <tr style=\"text-align: right;\">\n",
       "      <th></th>\n",
       "      <th>L</th>\n",
       "      <th>a</th>\n",
       "      <th>b</th>\n",
       "      <th>tueste</th>\n",
       "      <th>metodo</th>\n",
       "      <th>Lt</th>\n",
       "    </tr>\n",
       "  </thead>\n",
       "  <tbody>\n",
       "    <tr>\n",
       "      <th>0</th>\n",
       "      <td>15.190326</td>\n",
       "      <td>23.668751</td>\n",
       "      <td>21.964649</td>\n",
       "      <td>verde</td>\n",
       "      <td>tradicional</td>\n",
       "      <td>1.199574</td>\n",
       "    </tr>\n",
       "    <tr>\n",
       "      <th>1</th>\n",
       "      <td>12.327745</td>\n",
       "      <td>20.777119</td>\n",
       "      <td>21.016556</td>\n",
       "      <td>verde</td>\n",
       "      <td>tradicional</td>\n",
       "      <td>1.167316</td>\n",
       "    </tr>\n",
       "    <tr>\n",
       "      <th>2</th>\n",
       "      <td>13.532245</td>\n",
       "      <td>23.299168</td>\n",
       "      <td>23.883105</td>\n",
       "      <td>verde</td>\n",
       "      <td>tradicional</td>\n",
       "      <td>1.182313</td>\n",
       "    </tr>\n",
       "    <tr>\n",
       "      <th>3</th>\n",
       "      <td>13.596647</td>\n",
       "      <td>21.078218</td>\n",
       "      <td>20.412357</td>\n",
       "      <td>verde</td>\n",
       "      <td>tradicional</td>\n",
       "      <td>1.183051</td>\n",
       "    </tr>\n",
       "    <tr>\n",
       "      <th>4</th>\n",
       "      <td>13.344347</td>\n",
       "      <td>19.525299</td>\n",
       "      <td>20.695920</td>\n",
       "      <td>verde</td>\n",
       "      <td>tradicional</td>\n",
       "      <td>1.180127</td>\n",
       "    </tr>\n",
       "  </tbody>\n",
       "</table>\n",
       "</div>"
      ],
      "text/plain": [
       "           L          a          b tueste       metodo        Lt\n",
       "0  15.190326  23.668751  21.964649  verde  tradicional  1.199574\n",
       "1  12.327745  20.777119  21.016556  verde  tradicional  1.167316\n",
       "2  13.532245  23.299168  23.883105  verde  tradicional  1.182313\n",
       "3  13.596647  21.078218  20.412357  verde  tradicional  1.183051\n",
       "4  13.344347  19.525299  20.695920  verde  tradicional  1.180127"
      ]
     },
     "execution_count": 207,
     "metadata": {},
     "output_type": "execute_result"
    }
   ],
   "source": [
    "dfct.head()"
   ]
  },
  {
   "cell_type": "markdown",
   "id": "3ea9a4f3",
   "metadata": {},
   "source": [
    "$$\\color{blue}{\\textbf{Anova usando como respuesta la L transformada}}$$"
   ]
  },
  {
   "cell_type": "code",
   "execution_count": 209,
   "id": "dc51d74a",
   "metadata": {},
   "outputs": [
    {
     "data": {
      "text/html": [
       "<div>\n",
       "<style scoped>\n",
       "    .dataframe tbody tr th:only-of-type {\n",
       "        vertical-align: middle;\n",
       "    }\n",
       "\n",
       "    .dataframe tbody tr th {\n",
       "        vertical-align: top;\n",
       "    }\n",
       "\n",
       "    .dataframe thead th {\n",
       "        text-align: right;\n",
       "    }\n",
       "</style>\n",
       "<table border=\"1\" class=\"dataframe\">\n",
       "  <thead>\n",
       "    <tr style=\"text-align: right;\">\n",
       "      <th></th>\n",
       "      <th>sum_sq</th>\n",
       "      <th>df</th>\n",
       "      <th>F</th>\n",
       "      <th>PR(&gt;F)</th>\n",
       "    </tr>\n",
       "  </thead>\n",
       "  <tbody>\n",
       "    <tr>\n",
       "      <th>C(tueste)</th>\n",
       "      <td>0.129394</td>\n",
       "      <td>3.0</td>\n",
       "      <td>292.181396</td>\n",
       "      <td>8.714518e-53</td>\n",
       "    </tr>\n",
       "    <tr>\n",
       "      <th>C(metodo)</th>\n",
       "      <td>0.000147</td>\n",
       "      <td>1.0</td>\n",
       "      <td>0.993402</td>\n",
       "      <td>3.210608e-01</td>\n",
       "    </tr>\n",
       "    <tr>\n",
       "      <th>C(tueste):C(metodo)</th>\n",
       "      <td>0.000445</td>\n",
       "      <td>3.0</td>\n",
       "      <td>1.005509</td>\n",
       "      <td>3.931960e-01</td>\n",
       "    </tr>\n",
       "    <tr>\n",
       "      <th>Residual</th>\n",
       "      <td>0.016533</td>\n",
       "      <td>112.0</td>\n",
       "      <td>NaN</td>\n",
       "      <td>NaN</td>\n",
       "    </tr>\n",
       "  </tbody>\n",
       "</table>\n",
       "</div>"
      ],
      "text/plain": [
       "                       sum_sq     df           F        PR(>F)\n",
       "C(tueste)            0.129394    3.0  292.181396  8.714518e-53\n",
       "C(metodo)            0.000147    1.0    0.993402  3.210608e-01\n",
       "C(tueste):C(metodo)  0.000445    3.0    1.005509  3.931960e-01\n",
       "Residual             0.016533  112.0         NaN           NaN"
      ]
     },
     "execution_count": 209,
     "metadata": {},
     "output_type": "execute_result"
    }
   ],
   "source": [
    "model2t = ols('Lt ~ C(tueste) + C(metodo) + C(tueste):C(metodo)', data=dfct).fit()\n",
    "anova_tab2v_t = sm.stats.anova_lm(model2t, typ=2)\n",
    "anova_tab2v_t"
   ]
  },
  {
   "cell_type": "markdown",
   "id": "5d2350eb",
   "metadata": {},
   "source": [
    "$$\\color{blue}{\\textbf{Anova alterno para extraer residuales}}$$"
   ]
  },
  {
   "cell_type": "code",
   "execution_count": 220,
   "id": "ad902bd8",
   "metadata": {},
   "outputs": [
    {
     "data": {
      "text/html": [
       "<div>\n",
       "<style scoped>\n",
       "    .dataframe tbody tr th:only-of-type {\n",
       "        vertical-align: middle;\n",
       "    }\n",
       "\n",
       "    .dataframe tbody tr th {\n",
       "        vertical-align: top;\n",
       "    }\n",
       "\n",
       "    .dataframe thead th {\n",
       "        text-align: right;\n",
       "    }\n",
       "</style>\n",
       "<table border=\"1\" class=\"dataframe\">\n",
       "  <thead>\n",
       "    <tr style=\"text-align: right;\">\n",
       "      <th></th>\n",
       "      <th>df</th>\n",
       "      <th>sum_sq</th>\n",
       "      <th>mean_sq</th>\n",
       "      <th>F</th>\n",
       "      <th>PR(&gt;F)</th>\n",
       "    </tr>\n",
       "  </thead>\n",
       "  <tbody>\n",
       "    <tr>\n",
       "      <th>C(tueste)</th>\n",
       "      <td>3.0</td>\n",
       "      <td>0.129394</td>\n",
       "      <td>0.043131</td>\n",
       "      <td>292.181396</td>\n",
       "      <td>8.714518e-53</td>\n",
       "    </tr>\n",
       "    <tr>\n",
       "      <th>C(metodo)</th>\n",
       "      <td>1.0</td>\n",
       "      <td>0.000147</td>\n",
       "      <td>0.000147</td>\n",
       "      <td>0.993402</td>\n",
       "      <td>3.210608e-01</td>\n",
       "    </tr>\n",
       "    <tr>\n",
       "      <th>C(tueste):C(metodo)</th>\n",
       "      <td>3.0</td>\n",
       "      <td>0.000445</td>\n",
       "      <td>0.000148</td>\n",
       "      <td>1.005509</td>\n",
       "      <td>3.931960e-01</td>\n",
       "    </tr>\n",
       "    <tr>\n",
       "      <th>Residual</th>\n",
       "      <td>112.0</td>\n",
       "      <td>0.016533</td>\n",
       "      <td>0.000148</td>\n",
       "      <td>NaN</td>\n",
       "      <td>NaN</td>\n",
       "    </tr>\n",
       "  </tbody>\n",
       "</table>\n",
       "</div>"
      ],
      "text/plain": [
       "                        df    sum_sq   mean_sq           F        PR(>F)\n",
       "C(tueste)              3.0  0.129394  0.043131  292.181396  8.714518e-53\n",
       "C(metodo)              1.0  0.000147  0.000147    0.993402  3.210608e-01\n",
       "C(tueste):C(metodo)    3.0  0.000445  0.000148    1.005509  3.931960e-01\n",
       "Residual             112.0  0.016533  0.000148         NaN           NaN"
      ]
     },
     "execution_count": 220,
     "metadata": {},
     "output_type": "execute_result"
    }
   ],
   "source": [
    "from bioinfokit.analys import stat\n",
    "res2vt = stat()\n",
    "res2vt.anova_stat(df=dfct, res_var='Lt', anova_model='Lt~C(tueste)+C(metodo)+C(tueste):C(metodo)')\n",
    "res2vt.anova_summary"
   ]
  },
  {
   "cell_type": "code",
   "execution_count": 221,
   "id": "80cfd36f",
   "metadata": {},
   "outputs": [
    {
     "data": {
      "image/png": "[encoded data removed]",
      "text/plain": [
       "<Figure size 432x288 with 1 Axes>"
      ]
     },
     "metadata": {
      "needs_background": "light"
     },
     "output_type": "display_data"
    }
   ],
   "source": [
    "plt.hist(res2vt.anova_model_out.resid, bins=20, histtype='bar', ec='k') \n",
    "plt.xlabel(\"Residuales\")\n",
    "plt.ylabel('Frecuencia')\n",
    "plt.show()"
   ]
  },
  {
   "cell_type": "markdown",
   "id": "89d5c532",
   "metadata": {},
   "source": [
    "$$\\color{blue}{\\textbf{Prueba de Normalidad y nuevo Lambda}}$$"
   ]
  },
  {
   "cell_type": "code",
   "execution_count": 222,
   "id": "b69df938",
   "metadata": {},
   "outputs": [
    {
     "name": "stdout",
     "output_type": "stream",
     "text": [
      "0.950151801109314 0.00022167911811266094\n"
     ]
    }
   ],
   "source": [
    "import scipy.stats as stats\n",
    "wt, pvaluet = stats.shapiro(res2vt.anova_model_out.resid)\n",
    "print(wt, pvaluet)"
   ]
  },
  {
   "cell_type": "code",
   "execution_count": 223,
   "id": "0c46edbb",
   "metadata": {},
   "outputs": [],
   "source": [
    "from scipy import stats\n",
    "L_tt, lmbdat = stats.boxcox(dfct['Lt'])"
   ]
  },
  {
   "cell_type": "code",
   "execution_count": 224,
   "id": "bf5aa271",
   "metadata": {},
   "outputs": [
    {
     "name": "stdout",
     "output_type": "stream",
     "text": [
      "mejor lambda = 0.151\n"
     ]
    }
   ],
   "source": [
    "print('mejor lambda = %s' % round(lmbdat, 3))"
   ]
  },
  {
   "cell_type": "code",
   "execution_count": null,
   "id": "0cce2320",
   "metadata": {},
   "outputs": [],
   "source": []
  }
 ],
 "metadata": {
  "kernelspec": {
   "display_name": "Python 3 (ipykernel)",
   "language": "python",
   "name": "python3"
  },
  "language_info": {
   "codemirror_mode": {
    "name": "ipython",
    "version": 3
   },
   "file_extension": ".py",
   "mimetype": "text/x-python",
   "name": "python",
   "nbconvert_exporter": "python",
   "pygments_lexer": "ipython3",
   "version": "3.9.7"
  }
 },
 "nbformat": 4,
 "nbformat_minor": 5
}
